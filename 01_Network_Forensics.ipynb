{
  "nbformat": 4,
  "nbformat_minor": 0,
  "metadata": {
    "colab": {
      "provenance": []
    },
    "kernelspec": {
      "name": "python3",
      "display_name": "Python 3"
    },
    "language_info": {
      "name": "python"
    }
  },
  "cells": [
    {
      "cell_type": "markdown",
      "source": [
        "# Introduction to Network Forensics\n",
        "\n",
        "**Scenario:** You are a cybersecurity analyst working in the Security Operations Center (SOC) of BookWorld, an expansive online bookstore renowned for its vast selection of literature. BookWorld prides itself on providing a seamless and secure shopping experience for book enthusiasts around the globe. Recently, you've been tasked with reinforcing the company's cybersecurity posture, monitoring network traffic, and ensuring that the digital environment remains safe from threats.\n",
        "\n",
        "Late one evening, an automated alert is triggered by an unusual spike in database queries and server resource usage, indicating potential malicious activity. This anomaly raises concerns about the integrity of BookWorld's customer data and internal systems, prompting an immediate and thorough investigation.\n",
        "\n",
        "As the lead analyst on this case, you are required to analyze the network traffic to uncover the nature of the suspicious activity. Your objectives include identifying the attack vector, assessing the scope of any potential data breach, and determining if the attacker gained further access to BookWorld's internal systems.\n",
        "\n",
        "**Tools to Use:** Tshark, Wireshark, Network Miner"
      ],
      "metadata": {
        "id": "T3bL_tDqc6Aa"
      }
    },
    {
      "cell_type": "code",
      "execution_count": null,
      "metadata": {
        "collapsed": true,
        "id": "J38bAIzDVDah"
      },
      "outputs": [],
      "source": [
        "!apt update -y\n",
        "!apt install tshark -y"
      ]
    },
    {
      "cell_type": "markdown",
      "source": [
        "The command **!apt update -y** is used in many interactive environments like Jupyter Notebooks or Google Colab to execute shell commands. Here, the exclamation mark (!) indicates that the command should be run in the system's command line (internally deployed docker from Google Collabs), rather than within the notebook itself.\n",
        "\n",
        "The apt tool is a package management utility for Debian-based Linux distributions such as Ubuntu. The update option tells apt to refresh the list of available software packages and their versions. This is an essential step to ensure the package manager has the most up-to-date information. The -y flag automatically answers \"yes\" to any prompts that might arise during the execution, making the process non-interactive and suitable for automated environments.\n",
        "\n",
        "The install option tells apt to install a specified package, in this case, tshark. TShark is a powerful network protocol analyzer that captures network packets and displays detailed information about them."
      ],
      "metadata": {
        "id": "CNMhUmiQCjnz"
      }
    },
    {
      "cell_type": "markdown",
      "source": [
        "**Quest 01:** By knowing the attacker's IP, we can analyze all logs and actions related to that IP and determine the extent of the attack, the duration of the attack, and the techniques used. Can you provide the attacker's IP?"
      ],
      "metadata": {
        "id": "7mJpAWpAdVUW"
      }
    },
    {
      "cell_type": "markdown",
      "source": [
        "Let's execute our first command as follows. The following command reads TCP packets (from a pcap file using the -r argument), extracts the source IP addresses (-T fields -e ip.src), and then counts and sorts these addresses by frequency ( | sort). The result is a list of the unique source IP addresses (-q argument removes the duplicates."
      ],
      "metadata": {
        "id": "xtYxAgyVDVyq"
      }
    },
    {
      "cell_type": "code",
      "source": [
        "!tshark -r WebInvestigation.pcap -Y \"tcp\" -T fields -e ip.src | sort | uniq -c | sort -nr"
      ],
      "metadata": {
        "collapsed": true,
        "id": "VnaOHzbMVRnB"
      },
      "execution_count": null,
      "outputs": []
    },
    {
      "cell_type": "markdown",
      "source": [
        "There are three IP addresses. One of them is the attacker and the other is the BookWorld server. Check the Network Miner by opening the pcap file and check the host details for each one of them."
      ],
      "metadata": {
        "id": "aS22ayDPEDdp"
      }
    },
    {
      "cell_type": "code",
      "source": [
        "#!tshark -r WebInvestigation.pcap -Y \"http\""
      ],
      "metadata": {
        "id": "sk3kSaLlHGpk"
      },
      "execution_count": null,
      "outputs": []
    },
    {
      "cell_type": "markdown",
      "source": [
        "The above command helps to identify and display all HTTP-related packets captured in the PCAP file. You can see a lot of 404 errors. A huge number of 404 errors is an indication of abnormal or malicious activity."
      ],
      "metadata": {
        "id": "EWYD94l8HIY2"
      }
    },
    {
      "cell_type": "markdown",
      "source": [
        "**Quest 02:** Now...We got the malicious IP, didn't we? If the geographical origin of an IP address is known to be from a region that has no business or expected traffic with our network, this can be an indicator of a targeted attack. Can you determine the origin city of the attacker? Which is the country of BookWorld?\n",
        "\n",
        "---\n",
        "\n",
        "IP geolocation allows you to determine the geographic location associated with an IP address. Several websites and services offer this functionality, including IP2Location, MaxMind, IPinfo.io, WhatIsMyIPAddress.com, and IPGeolocation.io. You can input an IP address into these platforms to retrieve information such as the country, region, city, latitude, and longitude associated with that IP address. While IP geolocation can be useful, it's important to remember that it may not always be 100% accurate due to various factors such as dynamic IP assignments and the use of proxies or VPNs.\n",
        "\n",
        "The curl comman below is used to fetch data from a URL, and in this case, it's fetching JSON data from https://ipapi.co/73.124.22.98/json. This URL corresponds to the IP geolocation service provided by ipapi.co. The JSON data returned will contain information about the geolocation of the IP address 73.124.22.98, such as its country, city, latitude, longitude, and more. JSON (JavaScript Object Notation) is a lightweight data interchange format commonly used for transmitting data between a server and a client."
      ],
      "metadata": {
        "id": "OCmrfmzXdk4X"
      }
    },
    {
      "cell_type": "code",
      "source": [
        "#!curl https://ipapi.co/73.124.22.98/json\n",
        "#!curl https://ipapi.co/111.224.250.131/json\n",
        "#!curl https://ipapi.co/170.40.150.126/json"
      ],
      "metadata": {
        "collapsed": true,
        "id": "_5KvX46JXe4O"
      },
      "execution_count": null,
      "outputs": []
    },
    {
      "cell_type": "markdown",
      "source": [
        "**Quest 03:** Identifying the exploited script allows security teams to understand exactly which vulnerability was used in the attack. This knowledge is critical for finding the appropriate patch or workaround to close the security gap and prevent future exploitation. Can you provide the vulnerable script name?\n",
        "\n",
        "Hint: We can see on Network Minter what software tools the malicious actor used. Tshark also responds with information, the final column indicates the potential software applications which were used. You sure can see a lot of similar entries. That's because the malicioud actor conducted a dictionary (bruteforce) attack to discover all the subfolders or subpages of the website. There is also another tool which was used, this relates to MySQL."
      ],
      "metadata": {
        "id": "kTzjIoccdwB6"
      }
    },
    {
      "cell_type": "code",
      "source": [
        "!tshark -r WebInvestigation.pcap -Y \"http.request.method == POST\" | uniq -c"
      ],
      "metadata": {
        "id": "CBUVJzJELJiK"
      },
      "execution_count": null,
      "outputs": []
    },
    {
      "cell_type": "markdown",
      "source": [
        "As you can see there are a lot of fields (columns) in the pcap file. An incremental number, the franme number, source ip and destination ip, the type of the method (POST or GET) and other details. The final field though provides the"
      ],
      "metadata": {
        "id": "DobpWbnyLT8N"
      }
    },
    {
      "cell_type": "code",
      "source": [
        "!tshark -r WebInvestigation.pcap -Y \"http.request.method == GET\" -T fields -e http.user_agent | sort | uniq -c"
      ],
      "metadata": {
        "id": "m48q4o6xKvp_"
      },
      "execution_count": null,
      "outputs": []
    },
    {
      "cell_type": "code",
      "source": [
        "!tshark -r WebInvestigation.pcap -Y \"http.request\" -T fields -e frame.number -e ip.src -e ip.dst -e http.request.method -e http.host -e http.request.uri -e http.user_agent | sort | uniq -c | sort -nr"
      ],
      "metadata": {
        "collapsed": true,
        "id": "gUOltfKGXwQb"
      },
      "execution_count": null,
      "outputs": []
    },
    {
      "cell_type": "markdown",
      "source": [
        "Now let's see... This scirpt it might be from the company but maybe somehow the attacker uploaded the malicious script discovered above.If you can check and filter the pcap to see what kind of activity was executed using this .php script? The HTTP GET and POST methods usually refer to such activities. Oh, and consider that here is a very common attack named SQL Injection."
      ],
      "metadata": {
        "id": "y_KPvS-rJiSE"
      }
    },
    {
      "cell_type": "code",
      "source": [
        "!tshark -r WebInvestigation.pcap -Y \"http.request and (http.request.uri matches \\\"(?i)(SELECT|INSERT|UPDATE|DELETE|WHERE|FROM|UNION)\\\")\""
      ],
      "metadata": {
        "collapsed": true,
        "id": "-oV7O12ucbvf"
      },
      "execution_count": null,
      "outputs": []
    },
    {
      "cell_type": "markdown",
      "source": [
        "**Quest 04:** Establishing the timeline of an attack, starting from the initial exploitation attempt, What's the complete request URI of the first SQLi attempt by the attacker?"
      ],
      "metadata": {
        "id": "IeflOaNSd4_n"
      }
    },
    {
      "cell_type": "code",
      "source": [
        "!tshark -r WebInvestigation.pcap -Y \"http.request and (http.request.uri matches \\\"(?i)(1=1)\\\")\" -T fields -e frame.number -e ip.src -e ip.dst -e http.request.method -e http.host -e http.request.uri -e http.user_agent"
      ],
      "metadata": {
        "collapsed": true,
        "id": "mxHtLNtIeY-f"
      },
      "execution_count": null,
      "outputs": []
    },
    {
      "cell_type": "markdown",
      "source": [
        "**Quest 05:** Can you provide the complete request URI that was used to read the web server available databases?\n",
        "\n",
        "Hint: Use NetworkMiner going to files and list by size. Put as a keyword search.php. Check some of the queries of the largest size 200-800B. Inspect carefully manually all the relevant responses which provide usernames, emails etc. Search for the request that is related to database enumeration, finding the names of the databases. Then keep not of the specific Frame id. You can extract the parameters from the parameters tab of the specific frame id. You can also navigate using Wireshark.\n"
      ],
      "metadata": {
        "id": "J4ytvpo6ejVK"
      }
    },
    {
      "cell_type": "markdown",
      "source": [
        "**Quest 06:** Assessing the impact of the breach and data access is crucial, including the potential harm to the organization's reputation. What's the table name containing the website users data?\n",
        "\n",
        "Hint: Search again as before but now maybe its a larger packet as a respose from search.php query. Inside the query that provided usernames and emails you will find the table_name where the SELECT .... FROM ... SQL query was exectuted. On Network Miner -> Copy Parameter Values on the tab with the parameters. The solution is only the name of the table."
      ],
      "metadata": {
        "id": "WJuRFIDBpzAO"
      }
    },
    {
      "cell_type": "markdown",
      "source": [
        "**Quest 07:** The website directories hidden from the public could serve as an unauthorized access point or contain sensitive functionalities not intended for public access. Can you provide name of the directory discovered by the attacker?\n",
        "\n",
        "Hint: Search on the crendentials tab."
      ],
      "metadata": {
        "id": "PVRmo6y9qR8M"
      }
    },
    {
      "cell_type": "code",
      "source": [
        "!tshark -r WebInvestigation.pcap -Y \"http.request\" -T fields -e http.request.uri | grep -Eo '^\\/[^?]*\\/$' | sort | uniq"
      ],
      "metadata": {
        "collapsed": true,
        "id": "OVqQg2dOzgI_"
      },
      "execution_count": null,
      "outputs": []
    },
    {
      "cell_type": "markdown",
      "source": [
        "**Quest 08:** Knowing which credentials were used allows us to determine the extent of account compromise. What's the credentials used by the attacker for logging in?\n",
        "\n",
        "Hint: Check the Credentials tab or find the relevant packet frame number.\n",
        "\n"
      ],
      "metadata": {
        "id": "R0Lfb2kj1Lf4"
      }
    },
    {
      "cell_type": "code",
      "source": [
        "!tshark -r WebInvestigation.pcap -Y \"http.request.method == POST\""
      ],
      "metadata": {
        "collapsed": true,
        "id": "Iu2Bq-Fs0RaL"
      },
      "execution_count": null,
      "outputs": []
    },
    {
      "cell_type": "markdown",
      "source": [
        "**Quest 09:** We need to determine if the attacker gained further access or control on our web server. What's the name of the malicious script uploaded by the attacker?\n",
        "\n",
        "Hint: Search for POST methods since it is an upload. It should be in the final network frames using the /search.php as the standard attack vector.\n",
        "\n"
      ],
      "metadata": {
        "id": "Wsemu84C4MEM"
      }
    }
  ]
}